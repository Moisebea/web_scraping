{
 "cells": [
  {
   "cell_type": "code",
   "execution_count": null,
   "metadata": {},
   "outputs": [],
   "source": [
    "!pip install schedule\n",
    "import pandas as pd\n",
    "import requests\n",
    "import numpy as np\n",
    "import matplotlib.pyplot as plt\n",
    "from bs4 import BeautifulSoup\n",
    "import lxml\n",
    "from lxml import html\n",
    "import selenium\n",
    "import io\n",
    "from selenium import webdriver\n",
    "import requests\n",
    "from bs4 import BeautifulSoup\n",
    "import smtplib\n",
    "from email.mime.multipart import MIMEMultipart\n",
    "from email.mime.text import MIMEText\n",
    "import schedule\n",
    "import time\n",
    "import http.client\n",
    "import pandas as pd\n",
    "from io import BytesIO\n",
    "import re\n",
    "from selenium import webdriver\n",
    "from selenium.webdriver.chrome.service import Service\n",
    "from webdriver_manager.chrome import ChromeDriverManager\n",
    "from selenium .webdriver.common.by import By\n",
    "import time\n",
    "import requests\n",
    "import pandas as pd\n",
    "import io\n",
    "!pip install --upgrade selenium"
   ]
  },
  {
   "attachments": {},
   "cell_type": "markdown",
   "metadata": {},
   "source": [
    "# using chromerdrver to extract an excel file from australian agriculture gouv website"
   ]
  },
  {
   "cell_type": "code",
   "execution_count": null,
   "metadata": {},
   "outputs": [],
   "source": [
    "from selenium import webdriver\n",
    "from selenium.webdriver.firefox.service import Service\n",
    "from webdriver_manager.firefox import GeckoDriverManager\n",
    "from selenium.webdriver.common.by import By\n",
    "import time\n",
    "import requests\n",
    "import pandas as pd\n",
    "import io\n",
    "\n",
    "# URL du site web \n",
    "url = \"https://www.agriculture.gov.au/abares/research-topics/agricultural-outlook/data#australian-crop-report-data\"\n",
    "\n",
    "# Demarrer web driver\n",
    "driver = webdriver.Firefox(service=Service(GeckoDriverManager().install()))\n",
    "# Aller sur le site web\n",
    "driver.get(url)\n",
    "# Attendre que la page se charge\n",
    "time.sleep(5)\n",
    "\n",
    "# XPath du fichier Excel \n",
    "xpath = '//*[@id=\"block-system-main-block\"]/article/div/div/div[1]/div[3]/div/div/table/tbody/tr[1]/td[1]/a'\n",
    "\n",
    "# Trouver le premier element qui correspond au XPath\n",
    "element = driver.find_element(By.XPATH, xpath)\n",
    "\n",
    "# Obtenir l'URL du fichier Excel à partir de l'attribut 'href' de l'element\n",
    "excel_url = element.get_attribute('href')\n",
    "\n",
    "# Fermer WebDriver\n",
    "driver.quit()\n",
    "\n",
    "# Telecharger le fichier Excel \n",
    "excel_response = requests.get(excel_url)\n",
    "\n",
    "# lire le contenu du fichier Excel en tant que DataFrame\n",
    "df = pd.read_excel(io.BytesIO(excel_response.content))\n",
    "\n",
    "# Afficher le DataFrame\n",
    "print(df)"
   ]
  },
  {
   "cell_type": "code",
   "execution_count": null,
   "metadata": {},
   "outputs": [],
   "source": [
    "fichier=io.BytesIO(excel_response.content)"
   ]
  },
  {
   "attachments": {},
   "cell_type": "markdown",
   "metadata": {},
   "source": [
    "show tables using sheet name"
   ]
  },
  {
   "cell_type": "code",
   "execution_count": null,
   "metadata": {},
   "outputs": [],
   "source": [
    "all_sheets = pd.read_excel(fichier, sheet_name=None)\n",
    "all_sheets['Table 13']"
   ]
  },
  {
   "cell_type": "code",
   "execution_count": null,
   "metadata": {},
   "outputs": [],
   "source": [
    "sheets_with_header_8 = [\"Index\", \"Table 3\", \"Table 13\"]\n",
    "\n",
    "# Afficher mon fichier xlsx de 18 feuilles de calcul et assigner le header a chaque feuille \n",
    "all_sheets = pd.read_excel(fichier, sheet_name=None)  # Load all sheets first\n",
    "\n",
    "for sheet in all_sheets.keys():\n",
    "    if sheet in sheets_with_header_8:\n",
    "        all_sheets[sheet] = pd.read_excel(fichier, sheet, header=8,index_col= 0)\n",
    "    else:\n",
    "        all_sheets[sheet] = pd.read_excel(fichier, sheet, header=7,index_col= 0)\n",
    "\n",
    "all_sheets \n",
    "# Supprimer les colonnes et les ligne vides\n",
    "for sheet_name in all_sheets.keys():\n",
    "    all_sheets[sheet_name] = all_sheets[sheet_name].dropna(thresh=len(all_sheets[sheet_name].columns) - 2)\n",
    "    all_sheets[sheet_name] = all_sheets[sheet_name].dropna(axis=1, thresh=len(all_sheets[sheet_name]) - 2)\n",
    "all_sheets\n",
    "# Renommer les colonne unmaned\n",
    "def rename_unnamed(df):\n",
    "    cols = pd.Series(df.columns)\n",
    "    for i in range(1, len(cols)):\n",
    "        if \"unnamed\" in cols[i].lower():\n",
    "            cols[i] = cols[i - 1]\n",
    "    df.columns = cols\n",
    "    return df\n",
    "\n",
    "for sheet_name in all_sheets.keys():\n",
    "    all_sheets[sheet_name] = rename_unnamed(all_sheets[sheet_name])\n",
    "# Afficher chacune des feuilles du fichier\n",
    "all_sheets[\"Table 1\"]"
   ]
  },
  {
   "attachments": {},
   "cell_type": "markdown",
   "metadata": {},
   "source": [
    "# Cleaning tables"
   ]
  },
  {
   "cell_type": "code",
   "execution_count": null,
   "metadata": {},
   "outputs": [],
   "source": [
    "a = pd.read_csv('Table 3.csv', delimiter=';')\n",
    "\n",
    "# Display the first few rows of the data\n",
    "data.head()\n",
    "data = data.drop(0)\n",
    "\n",
    "# Rename the columns\n",
    "data.columns = ['Year', 'NSW_Area', 'NSW_Production', 'Queensland_Area', 'Queensland_Production', 'Australia_Area', 'Australia_Production']\n",
    "\n",
    "# Convert the data to long format\n",
    "data_long = data.melt(id_vars='Year', var_name='Measure', value_name='Value')\n",
    "\n",
    "# Split the 'Measure' column into 'Region' and 'Unit' columns\n",
    "data_long[['Region', 'Unit']] = data_long['Measure'].str.split('_', expand=True)\n",
    "\n",
    "# Drop the 'Measure' column as it is no longer needed\n",
    "data_long = data_long.drop('Measure', axis=1)\n",
    "\n",
    "# Convert 'Value' column to numeric\n",
    "data_long['Value'] = pd.to_numeric(data_long['Value'])\n",
    "\n",
    "# Display the first few rows of the transformed data\n",
    "data_long.head()\n",
    "data_long.to_csv(\"table_3.csv\",sep=\";\",index=False)"
   ]
  },
  {
   "cell_type": "code",
   "execution_count": null,
   "metadata": {},
   "outputs": [],
   "source": [
    "data_new=pd.read_csv('Table 4.csv',delimiter=';')\n",
    "data_new = data_new.drop(0)\n",
    "\n",
    "# Rename the columns\n",
    "data_new.columns = ['Crop', 'Area', 'Yield', 'Production', 'Area Change', 'Production Change']\n",
    "\n",
    "# Convert the data to long format\n",
    "data_new_long = data_new.melt(id_vars='Crop', var_name='Measure', value_name='Value')\n",
    "\n",
    "# Display the first few rows of the transformed data\n",
    "data_new_long.head()\n",
    "data_new_long.to_csv(\"table_4.csv\",sep=';',index=False)"
   ]
  },
  {
   "attachments": {},
   "cell_type": "markdown",
   "metadata": {},
   "source": [
    "# saving all the tables in csv database\n"
   ]
  },
  {
   "cell_type": "code",
   "execution_count": null,
   "metadata": {},
   "outputs": [],
   "source": [
    "for sheet_name, df in all_sheets.items():\n",
    "    df.to_csv(f\"{sheet_name}.csv\",sep=';',index=False)"
   ]
  },
  {
   "cell_type": "code",
   "execution_count": null,
   "metadata": {},
   "outputs": [],
   "source": []
  }
 ],
 "metadata": {
  "kernelspec": {
   "display_name": "Python 3",
   "language": "python",
   "name": "python3"
  },
  "language_info": {
   "codemirror_mode": {
    "name": "ipython",
    "version": 3
   },
   "file_extension": ".py",
   "mimetype": "text/x-python",
   "name": "python",
   "nbconvert_exporter": "python",
   "pygments_lexer": "ipython3",
   "version": "3.11.0"
  },
  "orig_nbformat": 4
 },
 "nbformat": 4,
 "nbformat_minor": 2
}

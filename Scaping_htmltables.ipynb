{
 "cells": [
  {
   "cell_type": "code",
   "execution_count": 1,
   "metadata": {},
   "outputs": [],
   "source": [
    "import pandas as pd"
   ]
  },
  {
   "cell_type": "code",
   "execution_count": null,
   "metadata": {},
   "outputs": [],
   "source": [
    "# URL du site web\n",
    "url = \"https://www.saskatchewan.ca/business/agriculture-natural-resources-and-industry/agribusiness-farmers-and-ranchers/market-and-trade-statistics/crops-statistics/crop-report\"\n",
    "\n",
    "\n",
    "tables = pd.read_html(url,header=1)\n",
    "\n",
    "# Nous voulons extraire les tableaux qui ont pour indice 2,3\n",
    "table1 = tables[2]\n",
    "table2 = tables[3]"
   ]
  },
  {
   "cell_type": "code",
   "execution_count": null,
   "metadata": {},
   "outputs": [],
   "source": [
    "# supprimer Unamed au niveau des colonne\n",
    "for col in table1.columns:\n",
    "    \n",
    "    if \"Unnamed\" in col:\n",
    "        \n",
    "        table1 = table1.rename(columns={col: \"Commodity\"})\n",
    "\n",
    "table1"
   ]
  },
  {
   "cell_type": "code",
   "execution_count": null,
   "metadata": {},
   "outputs": [],
   "source": [
    "# Diviser le 2eme tableau en deux \n",
    "moitié_1= table2.iloc[:5]\n",
    "moitié_2=table2.iloc[5:]"
   ]
  },
  {
   "cell_type": "code",
   "execution_count": null,
   "metadata": {},
   "outputs": [],
   "source": [
    "moitié_1 = moitié_1.drop(moitié_1.columns[1], axis=1)\n",
    "moitié_1 = moitié_1.rename(columns={\"Winter wheat.1\": \"Winter wheat\"})\n",
    "moitié_1"
   ]
  },
  {
   "cell_type": "code",
   "execution_count": null,
   "metadata": {},
   "outputs": [],
   "source": [
    "moitié_2 = moitié_2.rename(columns={\"Winter wheat\": \"Flax1\", \"Winter wheat.1\": \"Flax\", \"Fall rye\": \"Canola\",\"Spring wheat\":\"Mustard\",\"Durum\":\"Soybean\",\"Oat\":\"Pea\",\"Barley\":\"lentil\",\"Canary seed\":\"Chickpea\"})\n",
    "moitié_2 = moitié_2.drop(columns=\"Flax1\")\n",
    "moitié_2=moitié_2.drop(moitié_2.index[0])\n",
    "moitié_2"
   ]
  },
  {
   "cell_type": "code",
   "execution_count": null,
   "metadata": {},
   "outputs": [],
   "source": [
    "table2=pd.merge(moitié_1,moitié_2,on='Condition',how='inner')\n",
    "table2.to_csv('Crop_conditions.csv', sep=';',index=False)"
   ]
  },
  {
   "cell_type": "code",
   "execution_count": null,
   "metadata": {},
   "outputs": [],
   "source": [
    "#Envoi de mail contenant les tableaux"
   ]
  },
  {
   "cell_type": "code",
   "execution_count": null,
   "metadata": {},
   "outputs": [],
   "source": [
    "import smtplib\n",
    "from email.mime.multipart import MIMEMultipart\n",
    "from email.mime.text import MIMEText\n",
    "\n",
    "url = 'https://www.saskatchewan.ca/business/agriculture-natural-resources-and-industry/agribusiness-farmers-and-ranchers/market-and-trade-statistics/crops-statistics/crop-report'\n",
    "\n",
    "response = requests.get(url)\n",
    "\n",
    "\n",
    "soup = BeautifulSoup(response.content, 'html.parser')\n",
    "\n",
    "tables = soup.find_all('table')\n",
    "\n",
    "dataframes = [pd.read_html(str(table))[0] for table in tables]\n",
    "\n",
    "\n",
    "msg = MIMEMultipart()\n",
    "msg['From'] = 'test1221@gmail.com'\n",
    "msg['To'] = 'beavomo1@gmail.com.com'\n",
    "msg['Subject'] = 'Nouveaux tableaux Crop condition'\n",
    "\n",
    "# convertir les tableaux en Html pour les ajouter au mail\n",
    "for df in dataframes:\n",
    "    html = df.to_html()\n",
    "    msg.attach(MIMEText(html, 'html'))\n",
    "\n",
    "# Envoi du mail\n",
    "server = smtplib.SMTP_SSL('smtp.gmail.com', 465)\n",
    "server.login('test.etg1221@gmail.com', 'luibcvdddpxrvhlx')\n",
    "server.send_message(msg)\n",
    "server.quit()"
   ]
  }
 ],
 "metadata": {
  "kernelspec": {
   "display_name": "Python 3",
   "language": "python",
   "name": "python3"
  },
  "language_info": {
   "codemirror_mode": {
    "name": "ipython",
    "version": 3
   },
   "file_extension": ".py",
   "mimetype": "text/x-python",
   "name": "python",
   "nbconvert_exporter": "python",
   "pygments_lexer": "ipython3",
   "version": "3.11.0"
  },
  "orig_nbformat": 4
 },
 "nbformat": 4,
 "nbformat_minor": 2
}
